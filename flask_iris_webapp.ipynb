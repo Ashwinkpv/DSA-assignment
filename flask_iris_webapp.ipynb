{
  "nbformat": 4,
  "nbformat_minor": 0,
  "metadata": {
    "colab": {
      "name": "flask -iris-webapp.ipynb",
      "provenance": [],
      "collapsed_sections": [],
      "include_colab_link": true
    },
    "kernelspec": {
      "name": "python3",
      "display_name": "Python 3"
    },
    "language_info": {
      "name": "python"
    }
  },
  "cells": [
    {
      "cell_type": "markdown",
      "metadata": {
        "id": "view-in-github",
        "colab_type": "text"
      },
      "source": [
        "<a href=\"https://colab.research.google.com/github/Ashwinkpv/DSA-assignment/blob/main/flask_iris_webapp.ipynb\" target=\"_parent\"><img src=\"https://colab.research.google.com/assets/colab-badge.svg\" alt=\"Open In Colab\"/></a>"
      ]
    },
    {
      "cell_type": "code",
      "source": [
        "pip install flask-ngrok"
      ],
      "metadata": {
        "colab": {
          "base_uri": "https://localhost:8080/"
        },
        "id": "IN95I0OUfOi_",
        "outputId": "909e6bcd-8e7b-4b32-ac6f-8e3893209249"
      },
      "execution_count": 2,
      "outputs": [
        {
          "output_type": "stream",
          "name": "stdout",
          "text": [
            "Requirement already satisfied: flask-ngrok in /usr/local/lib/python3.7/dist-packages (0.0.25)\n",
            "Requirement already satisfied: Flask>=0.8 in /usr/local/lib/python3.7/dist-packages (from flask-ngrok) (1.1.4)\n",
            "Requirement already satisfied: requests in /usr/local/lib/python3.7/dist-packages (from flask-ngrok) (2.23.0)\n",
            "Requirement already satisfied: itsdangerous<2.0,>=0.24 in /usr/local/lib/python3.7/dist-packages (from Flask>=0.8->flask-ngrok) (1.1.0)\n",
            "Requirement already satisfied: click<8.0,>=5.1 in /usr/local/lib/python3.7/dist-packages (from Flask>=0.8->flask-ngrok) (7.1.2)\n",
            "Requirement already satisfied: Jinja2<3.0,>=2.10.1 in /usr/local/lib/python3.7/dist-packages (from Flask>=0.8->flask-ngrok) (2.11.3)\n",
            "Requirement already satisfied: Werkzeug<2.0,>=0.15 in /usr/local/lib/python3.7/dist-packages (from Flask>=0.8->flask-ngrok) (1.0.1)\n",
            "Requirement already satisfied: MarkupSafe>=0.23 in /usr/local/lib/python3.7/dist-packages (from Jinja2<3.0,>=2.10.1->Flask>=0.8->flask-ngrok) (2.0.1)\n",
            "Requirement already satisfied: urllib3!=1.25.0,!=1.25.1,<1.26,>=1.21.1 in /usr/local/lib/python3.7/dist-packages (from requests->flask-ngrok) (1.24.3)\n",
            "Requirement already satisfied: certifi>=2017.4.17 in /usr/local/lib/python3.7/dist-packages (from requests->flask-ngrok) (2021.10.8)\n",
            "Requirement already satisfied: idna<3,>=2.5 in /usr/local/lib/python3.7/dist-packages (from requests->flask-ngrok) (2.10)\n",
            "Requirement already satisfied: chardet<4,>=3.0.2 in /usr/local/lib/python3.7/dist-packages (from requests->flask-ngrok) (3.0.4)\n"
          ]
        }
      ]
    },
    {
      "cell_type": "code",
      "source": [
        "from google.colab import drive\n",
        "drive.mount('/content/drive')"
      ],
      "metadata": {
        "colab": {
          "base_uri": "https://localhost:8080/"
        },
        "id": "B9RulSdaL50P",
        "outputId": "d928e050-93e8-4499-b83e-b49a70aa42a6"
      },
      "execution_count": 3,
      "outputs": [
        {
          "output_type": "stream",
          "name": "stdout",
          "text": [
            "Mounted at /content/drive\n"
          ]
        }
      ]
    },
    {
      "cell_type": "code",
      "source": [
        "from flask import Flask,render_template,request\n",
        "#only for colab\n",
        "from flask_ngrok import run_with_ngrok \n",
        "import numpy as np\n"
      ],
      "metadata": {
        "id": "mjczeW6IfkbA"
      },
      "execution_count": 5,
      "outputs": []
    },
    {
      "cell_type": "code",
      "source": [
        "app=Flask(__name__,template_folder=\"/content/drive/MyDrive/template/form.html\")\n",
        "#only for colab\n",
        "run_with_ngrok(app)"
      ],
      "metadata": {
        "id": "Ypszl_NegLDF"
      },
      "execution_count": 23,
      "outputs": []
    },
    {
      "cell_type": "code",
      "source": [
        "@app.route('/')\n",
        "def home():\n",
        "  return render_template('form.html') \n",
        "\n"
      ],
      "metadata": {
        "id": "f1Blk9iFjt-c"
      },
      "execution_count": 24,
      "outputs": []
    },
    {
      "cell_type": "code",
      "source": [
        "@app.route('/predict',methods=['POST']) \n",
        "def sol():\n",
        "  if request.method=='POST':\n",
        "    sepel_length=int(request.form['sepel_length'])\n",
        "    sepel_width= int(request.form['sepel_width'])\n",
        "    petal_length=int(request.form['petal_length'])\n",
        "    petal_width= int(request.form['petal_width'])\n",
        "    arr=np.array([[sepel_length,sepel_width,petal_length,petal_width]])\n",
        "    pred=classifier.predict(arr)\n",
        "    return render_template('pred.html',data=pred)\n",
        "\n",
        "if __name__==\"__main__\":\n",
        "  app.run()"
      ],
      "metadata": {
        "id": "yxwWBkmW_qoj",
        "colab": {
          "base_uri": "https://localhost:8080/"
        },
        "outputId": "020c4dae-74ca-4a3e-ec7f-eb2aaf3cd7ba"
      },
      "execution_count": null,
      "outputs": [
        {
          "output_type": "stream",
          "name": "stdout",
          "text": [
            " * Serving Flask app \"__main__\" (lazy loading)\n",
            " * Environment: production\n",
            "\u001b[31m   WARNING: This is a development server. Do not use it in a production deployment.\u001b[0m\n",
            "\u001b[2m   Use a production WSGI server instead.\u001b[0m\n",
            " * Debug mode: off\n"
          ]
        },
        {
          "output_type": "stream",
          "name": "stderr",
          "text": [
            " * Running on http://127.0.0.1:5000/ (Press CTRL+C to quit)\n"
          ]
        },
        {
          "output_type": "stream",
          "name": "stdout",
          "text": [
            " * Running on http://ce45-35-188-135-49.ngrok.io\n",
            " * Traffic stats available on http://127.0.0.1:4040\n"
          ]
        },
        {
          "output_type": "stream",
          "name": "stderr",
          "text": [
            "[2022-01-23 13:57:28,472] ERROR in app: Exception on / [GET]\n",
            "Traceback (most recent call last):\n",
            "  File \"/usr/local/lib/python3.7/dist-packages/flask/app.py\", line 2447, in wsgi_app\n",
            "    response = self.full_dispatch_request()\n",
            "  File \"/usr/local/lib/python3.7/dist-packages/flask/app.py\", line 1952, in full_dispatch_request\n",
            "    rv = self.handle_user_exception(e)\n",
            "  File \"/usr/local/lib/python3.7/dist-packages/flask/app.py\", line 1821, in handle_user_exception\n",
            "    reraise(exc_type, exc_value, tb)\n",
            "  File \"/usr/local/lib/python3.7/dist-packages/flask/_compat.py\", line 39, in reraise\n",
            "    raise value\n",
            "  File \"/usr/local/lib/python3.7/dist-packages/flask/app.py\", line 1950, in full_dispatch_request\n",
            "    rv = self.dispatch_request()\n",
            "  File \"/usr/local/lib/python3.7/dist-packages/flask/app.py\", line 1936, in dispatch_request\n",
            "    return self.view_functions[rule.endpoint](**req.view_args)\n",
            "  File \"<ipython-input-24-f46c1278806a>\", line 3, in home\n",
            "    return render_template('form.html')\n",
            "  File \"/usr/local/lib/python3.7/dist-packages/flask/templating.py\", line 138, in render_template\n",
            "    ctx.app.jinja_env.get_or_select_template(template_name_or_list),\n",
            "  File \"/usr/local/lib/python3.7/dist-packages/jinja2/environment.py\", line 930, in get_or_select_template\n",
            "    return self.get_template(template_name_or_list, parent, globals)\n",
            "  File \"/usr/local/lib/python3.7/dist-packages/jinja2/environment.py\", line 883, in get_template\n",
            "    return self._load_template(name, self.make_globals(globals))\n",
            "  File \"/usr/local/lib/python3.7/dist-packages/jinja2/environment.py\", line 857, in _load_template\n",
            "    template = self.loader.load(self, name, globals)\n",
            "  File \"/usr/local/lib/python3.7/dist-packages/jinja2/loaders.py\", line 115, in load\n",
            "    source, filename, uptodate = self.get_source(environment, name)\n",
            "  File \"/usr/local/lib/python3.7/dist-packages/flask/templating.py\", line 60, in get_source\n",
            "    return self._get_source_fast(environment, template)\n",
            "  File \"/usr/local/lib/python3.7/dist-packages/flask/templating.py\", line 89, in _get_source_fast\n",
            "    raise TemplateNotFound(template)\n",
            "jinja2.exceptions.TemplateNotFound: form.html\n",
            "127.0.0.1 - - [23/Jan/2022 13:57:28] \"\u001b[35m\u001b[1mGET / HTTP/1.1\u001b[0m\" 500 -\n",
            "[2022-01-23 14:10:19,845] ERROR in app: Exception on / [GET]\n",
            "Traceback (most recent call last):\n",
            "  File \"/usr/local/lib/python3.7/dist-packages/flask/app.py\", line 2447, in wsgi_app\n",
            "    response = self.full_dispatch_request()\n",
            "  File \"/usr/local/lib/python3.7/dist-packages/flask/app.py\", line 1952, in full_dispatch_request\n",
            "    rv = self.handle_user_exception(e)\n",
            "  File \"/usr/local/lib/python3.7/dist-packages/flask/app.py\", line 1821, in handle_user_exception\n",
            "    reraise(exc_type, exc_value, tb)\n",
            "  File \"/usr/local/lib/python3.7/dist-packages/flask/_compat.py\", line 39, in reraise\n",
            "    raise value\n",
            "  File \"/usr/local/lib/python3.7/dist-packages/flask/app.py\", line 1950, in full_dispatch_request\n",
            "    rv = self.dispatch_request()\n",
            "  File \"/usr/local/lib/python3.7/dist-packages/flask/app.py\", line 1936, in dispatch_request\n",
            "    return self.view_functions[rule.endpoint](**req.view_args)\n",
            "  File \"<ipython-input-24-f46c1278806a>\", line 3, in home\n",
            "    return render_template('form.html')\n",
            "  File \"/usr/local/lib/python3.7/dist-packages/flask/templating.py\", line 138, in render_template\n",
            "    ctx.app.jinja_env.get_or_select_template(template_name_or_list),\n",
            "  File \"/usr/local/lib/python3.7/dist-packages/jinja2/environment.py\", line 930, in get_or_select_template\n",
            "    return self.get_template(template_name_or_list, parent, globals)\n",
            "  File \"/usr/local/lib/python3.7/dist-packages/jinja2/environment.py\", line 883, in get_template\n",
            "    return self._load_template(name, self.make_globals(globals))\n",
            "  File \"/usr/local/lib/python3.7/dist-packages/jinja2/environment.py\", line 857, in _load_template\n",
            "    template = self.loader.load(self, name, globals)\n",
            "  File \"/usr/local/lib/python3.7/dist-packages/jinja2/loaders.py\", line 115, in load\n",
            "    source, filename, uptodate = self.get_source(environment, name)\n",
            "  File \"/usr/local/lib/python3.7/dist-packages/flask/templating.py\", line 60, in get_source\n",
            "    return self._get_source_fast(environment, template)\n",
            "  File \"/usr/local/lib/python3.7/dist-packages/flask/templating.py\", line 89, in _get_source_fast\n",
            "    raise TemplateNotFound(template)\n",
            "jinja2.exceptions.TemplateNotFound: form.html\n",
            "127.0.0.1 - - [23/Jan/2022 14:10:19] \"\u001b[35m\u001b[1mGET / HTTP/1.1\u001b[0m\" 500 -\n",
            "127.0.0.1 - - [23/Jan/2022 14:10:20] \"\u001b[33mGET /favicon.ico HTTP/1.1\u001b[0m\" 404 -\n"
          ]
        }
      ]
    },
    {
      "cell_type": "code",
      "source": [
        ""
      ],
      "metadata": {
        "id": "NoL3l6J7CWTq"
      },
      "execution_count": null,
      "outputs": []
    }
  ]
}