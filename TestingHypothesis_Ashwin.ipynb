{
  "nbformat": 4,
  "nbformat_minor": 0,
  "metadata": {
    "colab": {
      "name": " TestingHypothesis-Ashwin.ipynb",
      "provenance": [],
      "collapsed_sections": [],
      "include_colab_link": true
    },
    "kernelspec": {
      "name": "python3",
      "display_name": "Python 3"
    },
    "language_info": {
      "name": "python"
    }
  },
  "cells": [
    {
      "cell_type": "markdown",
      "metadata": {
        "id": "view-in-github",
        "colab_type": "text"
      },
      "source": [
        "<a href=\"https://colab.research.google.com/github/Ashwinkpv/DSA-assignment/blob/main/TestingHypothesis_Ashwin.ipynb\" target=\"_parent\"><img src=\"https://colab.research.google.com/assets/colab-badge.svg\" alt=\"Open In Colab\"/></a>"
      ]
    },
    {
      "cell_type": "code",
      "execution_count": null,
      "metadata": {
        "id": "PuW4icG3MApN"
      },
      "outputs": [],
      "source": [
        "#import libraries\n",
        "\n",
        "import pandas as pd\n",
        "import numpy as np\n",
        "import matplotlib.pyplot as plt\n",
        "import seaborn as sns "
      ]
    },
    {
      "cell_type": "code",
      "source": [
        "# Read Data\n",
        "salesData=pd.read_csv(\"/content/Sales_add.csv\")\n",
        "salesData.head()"
      ],
      "metadata": {
        "colab": {
          "base_uri": "https://localhost:8080/",
          "height": 206
        },
        "id": "JToXGn9TNvB2",
        "outputId": "6bfb618e-1f5c-467f-ef6e-00fbd9b72bfa"
      },
      "execution_count": null,
      "outputs": [
        {
          "output_type": "execute_result",
          "data": {
            "text/html": [
              "<div>\n",
              "<style scoped>\n",
              "    .dataframe tbody tr th:only-of-type {\n",
              "        vertical-align: middle;\n",
              "    }\n",
              "\n",
              "    .dataframe tbody tr th {\n",
              "        vertical-align: top;\n",
              "    }\n",
              "\n",
              "    .dataframe thead th {\n",
              "        text-align: right;\n",
              "    }\n",
              "</style>\n",
              "<table border=\"1\" class=\"dataframe\">\n",
              "  <thead>\n",
              "    <tr style=\"text-align: right;\">\n",
              "      <th></th>\n",
              "      <th>Month</th>\n",
              "      <th>Region</th>\n",
              "      <th>Manager</th>\n",
              "      <th>Sales_before_digital_add(in $)</th>\n",
              "      <th>Sales_After_digital_add(in $)</th>\n",
              "    </tr>\n",
              "  </thead>\n",
              "  <tbody>\n",
              "    <tr>\n",
              "      <th>0</th>\n",
              "      <td>Month-1</td>\n",
              "      <td>Region - A</td>\n",
              "      <td>Manager - A</td>\n",
              "      <td>132921</td>\n",
              "      <td>270390</td>\n",
              "    </tr>\n",
              "    <tr>\n",
              "      <th>1</th>\n",
              "      <td>Month-2</td>\n",
              "      <td>Region - A</td>\n",
              "      <td>Manager - C</td>\n",
              "      <td>149559</td>\n",
              "      <td>223334</td>\n",
              "    </tr>\n",
              "    <tr>\n",
              "      <th>2</th>\n",
              "      <td>Month-3</td>\n",
              "      <td>Region - B</td>\n",
              "      <td>Manager - A</td>\n",
              "      <td>146278</td>\n",
              "      <td>244243</td>\n",
              "    </tr>\n",
              "    <tr>\n",
              "      <th>3</th>\n",
              "      <td>Month-4</td>\n",
              "      <td>Region - B</td>\n",
              "      <td>Manager - B</td>\n",
              "      <td>152167</td>\n",
              "      <td>231808</td>\n",
              "    </tr>\n",
              "    <tr>\n",
              "      <th>4</th>\n",
              "      <td>Month-5</td>\n",
              "      <td>Region - C</td>\n",
              "      <td>Manager - B</td>\n",
              "      <td>159525</td>\n",
              "      <td>258402</td>\n",
              "    </tr>\n",
              "  </tbody>\n",
              "</table>\n",
              "</div>"
            ],
            "text/plain": [
              "     Month  ... Sales_After_digital_add(in $)\n",
              "0  Month-1  ...                        270390\n",
              "1  Month-2  ...                        223334\n",
              "2  Month-3  ...                        244243\n",
              "3  Month-4  ...                        231808\n",
              "4  Month-5  ...                        258402\n",
              "\n",
              "[5 rows x 5 columns]"
            ]
          },
          "metadata": {},
          "execution_count": 3
        }
      ]
    },
    {
      "cell_type": "markdown",
      "source": [
        "### 1) The company wishes to clarify whether there is any increase in sales after stepping into digital marketing"
      ],
      "metadata": {
        "id": "5bG7VBRr3T6U"
      }
    },
    {
      "cell_type": "code",
      "source": [
        "#Hypothesis\n",
        "#H0: No increase in sales after stepping into digital marketing. i.e., d = 0\n",
        "\n",
        "#H1: There is an increase in sales with digital marketing. i.e., d < 0\n",
        "\n",
        "#Where, d = x-y; d is the difference between sales before digital ad(say x) and sales after the digital ad (say y).\n"
      ],
      "metadata": {
        "id": "yH7wD2CH24-w"
      },
      "execution_count": null,
      "outputs": []
    },
    {
      "cell_type": "code",
      "source": [
        "sales_before_digital_add=np.asarray(salesData['Sales_before_digital_add(in $)'])\n",
        "sales_after_digital_add=np.asarray(salesData['Sales_After_digital_add(in $)'])\n",
        "alpha = 0.05\n",
        "\n",
        "from scipy import stats\n",
        "\n",
        "t_value,p_value=stats.ttest_rel(sales_before_digital_add,sales_after_digital_add)\n",
        "t_value,p_value\n"
      ],
      "metadata": {
        "colab": {
          "base_uri": "https://localhost:8080/"
        },
        "id": "rQh9KT44O1sS",
        "outputId": "afa34609-48dc-4c70-8e15-0e0bbef57520"
      },
      "execution_count": null,
      "outputs": [
        {
          "output_type": "execute_result",
          "data": {
            "text/plain": [
              "(-12.09070525287017, 6.336667004575778e-11)"
            ]
          },
          "metadata": {},
          "execution_count": 5
        }
      ]
    },
    {
      "cell_type": "code",
      "source": [
        "if one_tailed_p_value<=alpha:\n",
        "\n",
        "    print('Conclusion','n','Since p-value(=%f)'%one_tailed_p_value,'<','alpha(=%.2f)'%alpha,'''We reject the null hypothesis H0. \n",
        "\n",
        "So we conclude that sales have increased by the digital marketing. i.e., d = 0 at %.2f level of significance.'''%alpha)\n",
        "\n",
        "else:\n",
        "\n",
        "    print('Conclusion','n','Since p-value(=%f)'%one_tailed_p_value,'>','alpha(=%.2f)'%alpha,'''We do not reject the null hypothesis H0. \n",
        "\n",
        "So we conclude that the sales have increased by the digital marketing. i.e., d = 0 at %.2f level of significance.'''%alpha)"
      ],
      "metadata": {
        "colab": {
          "base_uri": "https://localhost:8080/"
        },
        "id": "nkQBNe5IzGDm",
        "outputId": "df52f395-407d-4d58-943e-ee7c4479f620"
      },
      "execution_count": null,
      "outputs": [
        {
          "output_type": "stream",
          "name": "stdout",
          "text": [
            "Conclusion n Since p-value(=0.000000) < alpha(=0.01) We reject the null hypothesis H0. \n",
            "\n",
            "So we conclude that sales have increased by the digital marketing. i.e., d = 0 at 0.01 level of significance.\n"
          ]
        }
      ]
    },
    {
      "cell_type": "markdown",
      "source": [
        "2) The company needs to check whether there is any dependency between the features “Region” and “Manager”."
      ],
      "metadata": {
        "id": "gTqxA0De3w1r"
      }
    },
    {
      "cell_type": "code",
      "source": [
        "from scipy.stats import chi2_contingency\n",
        "\n",
        "# defining the table\n",
        "contingency_table=pd.crosstab(salesData[\"Region\"],salesData[\"Manager\"])\n",
        "print('contingency_table :-\\n',contingency_table)\n",
        "#Observed Values\n",
        "Observed_Values = contingency_table.values \n",
        "print(\"Observed Values :-\\n\",Observed_Values)\n",
        "b=stats.chi2_contingency(contingency_table)\n",
        "Expected_Values = b[3]\n",
        "print(\"Expected Values :-\\n\",Expected_Values)\n",
        "no_of_rows=len(contingency_table.iloc[0:2,0])\n",
        "no_of_columns=len(contingency_table.iloc[0,0:2])\n",
        "ddof=(no_of_rows-1)*(no_of_columns-1)\n",
        "print(\"Degree of Freedom:-\",ddof)\n",
        "alpha = 0.05\n",
        "from scipy.stats import chi2\n",
        "chi_square=sum([(o-e)**2./e for o,e in zip(Observed_Values,Expected_Values)])\n",
        "chi_square_statistic=chi_square[0]+chi_square[1]\n",
        "print(\"chi-square statistic:-\",chi_square_statistic)\n",
        "critical_value=chi2.ppf(q=1-alpha,df=ddof)\n",
        "print('critical_value:',critical_value)\n",
        "#p-value\n",
        "p_value=1-chi2.cdf(x=chi_square_statistic,df=ddof)\n",
        "print('p-value:',p_value)\n",
        "print('Significance level: ',alpha)\n",
        "print('Degree of Freedom: ',ddof)\n",
        "print('chi-square statistic:',chi_square_statistic)\n",
        "print('critical_value:',critical_value)\n",
        "print('p-value:',p_value)\n",
        "if chi_square_statistic>=critical_value:\n",
        "    print(\"Reject H0,There is a relationship between Manager and region\")\n",
        "else:\n",
        "    print(\"Retain H0,There is no relationship between Manager and region\")\n",
        "    \n",
        "if p_value<=alpha:\n",
        "    print(\"Reject H0,There is a relationship between Manager and region\")\n",
        "else:\n",
        "    print(\"Retain H0,There is no relationship between Manager and region\")\n"
      ],
      "metadata": {
        "colab": {
          "base_uri": "https://localhost:8080/"
        },
        "id": "y4_2soRE3_7P",
        "outputId": "d56edd8b-413f-4ab3-8b86-362db334c236"
      },
      "execution_count": null,
      "outputs": [
        {
          "output_type": "stream",
          "name": "stdout",
          "text": [
            "contingency_table :-\n",
            " Manager     Manager - A  Manager - B  Manager - C\n",
            "Region                                           \n",
            "Region - A            4            3            3\n",
            "Region - B            4            1            2\n",
            "Region - C            1            3            1\n",
            "Observed Values :-\n",
            " [[4 3 3]\n",
            " [4 1 2]\n",
            " [1 3 1]]\n",
            "Expected Values :-\n",
            " [[4.09090909 3.18181818 2.72727273]\n",
            " [2.86363636 2.22727273 1.90909091]\n",
            " [2.04545455 1.59090909 1.36363636]]\n",
            "Degree of Freedom:- 1\n",
            "chi-square statistic:- 2.921995464852608\n",
            "critical_value: 3.841458820694124\n",
            "p-value: 0.08737974495299139\n",
            "Significance level:  0.05\n",
            "Degree of Freedom:  1\n",
            "chi-square statistic: 2.921995464852608\n",
            "critical_value: 3.841458820694124\n",
            "p-value: 0.08737974495299139\n",
            "Retain H0,There is no relationship between Manager and region\n",
            "Retain H0,There is no relationship between Manager and region\n"
          ]
        }
      ]
    }
  ]
}