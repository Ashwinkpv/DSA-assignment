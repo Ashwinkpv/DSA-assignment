{
  "cells": [
    {
      "cell_type": "markdown",
      "metadata": {
        "id": "view-in-github",
        "colab_type": "text"
      },
      "source": [
        "<a href=\"https://colab.research.google.com/github/Ashwinkpv/DSA-assignment/blob/main/digit_recognition_sym.ipynb\" target=\"_parent\"><img src=\"https://colab.research.google.com/assets/colab-badge.svg\" alt=\"Open In Colab\"/></a>"
      ]
    },
    {
      "cell_type": "code",
      "execution_count": null,
      "metadata": {
        "colab": {
          "base_uri": "https://localhost:8080/"
        },
        "id": "PdklavDGEH70",
        "outputId": "cd513742-86df-4d5c-a2f7-a7575f5888d9"
      },
      "outputs": [
        {
          "output_type": "stream",
          "name": "stdout",
          "text": [
            "Downloading data from https://storage.googleapis.com/tensorflow/tf-keras-datasets/mnist.npz\n",
            "11493376/11490434 [==============================] - 0s 0us/step\n",
            "11501568/11490434 [==============================] - 0s 0us/step\n",
            "(60000, 28, 28) (60000,)\n"
          ]
        }
      ],
      "source": [
        "import keras\n",
        "from keras.datasets import mnist\n",
        "from keras.models import Sequential\n",
        "from keras.layers import Dense, Dropout, Flatten\n",
        "from tensorflow.keras.utils import to_categorical\n",
        "from keras.layers import Conv2D, MaxPooling2D\n",
        "from keras import backend as K\n",
        "# the data, split between train and test sets\n",
        "(x_train, y_train), (x_test, y_test) = mnist.load_data()\n",
        "print(x_train.shape, y_train.shape)"
      ]
    },
    {
      "cell_type": "code",
      "execution_count": null,
      "metadata": {
        "colab": {
          "base_uri": "https://localhost:8080/"
        },
        "id": "nbyBgme-EI48",
        "outputId": "6f151278-fa79-4d18-aa47-75c5ae97392f"
      },
      "outputs": [
        {
          "output_type": "stream",
          "name": "stdout",
          "text": [
            "x_train shape: (60000, 28, 28, 1)\n",
            "60000 train samples\n",
            "10000 test samples\n"
          ]
        }
      ],
      "source": [
        "x_train = x_train.reshape(x_train.shape[0], 28, 28, 1)\n",
        "x_test = x_test.reshape(x_test.shape[0], 28, 28, 1)\n",
        "input_shape = (28, 28, 1)\n",
        "# convert class vectors to binary class matrices\n",
        "y_train = to_categorical(y_train, num_classes=10)\n",
        "y_test = to_categorical(y_test, num_classes=10)\n",
        "x_train = x_train.astype('float32')\n",
        "x_test = x_test.astype('float32')\n",
        "x_train /= 255\n",
        "x_test /= 255\n",
        "print('x_train shape:', x_train.shape)\n",
        "print(x_train.shape[0], 'train samples')\n",
        "print(x_test.shape[0], 'test samples')"
      ]
    },
    {
      "cell_type": "code",
      "execution_count": null,
      "metadata": {
        "id": "J8nI7BeFEOi4"
      },
      "outputs": [],
      "source": [
        "import random\n",
        "import tensorflow as tf"
      ]
    },
    {
      "cell_type": "code",
      "execution_count": null,
      "metadata": {
        "colab": {
          "base_uri": "https://localhost:8080/",
          "height": 1000
        },
        "id": "5GK3CEKJFkeM",
        "outputId": "da9902bd-bf3f-4daa-dadc-4f09c7a686fe"
      },
      "outputs": [],
      "source": [
        "import matplotlib.pyplot as plt\n",
        "plt.figure(figsize=(10,10))\n",
        "for i in range(25):\n",
        "    plt.subplot(5,5,i+1)\n",
        "    plt.xticks([])\n",
        "    plt.yticks([])\n",
        "    plt.grid(False)\n",
        "    plt.imshow(tf.squeeze(x_train[i]), cmap=plt.cm.binary)\n",
        "    # The CIFAR labels happen to be arrays, \n",
        "    # which is why you need the extra index\n",
        "    plt.xlabel(x_train[i])\n",
        "plt.show()"
      ]
    },
    {
      "cell_type": "code",
      "execution_count": null,
      "metadata": {
        "id": "KhzKu1dKFvOa"
      },
      "outputs": [],
      "source": [
        "batch_size = 128\n",
        "num_classes = 10\n",
        "epochs = 10\n",
        "model = Sequential()\n",
        "model.add(Conv2D(32, kernel_size=(3, 3),activation='relu',input_shape=input_shape))\n",
        "model.add(Conv2D(64, (3, 3), activation='relu'))\n",
        "model.add(MaxPooling2D(pool_size=(2, 2)))\n",
        "model.add(Dropout(0.25))\n",
        "model.add(Flatten())\n",
        "model.add(Dense(256, activation='relu'))\n",
        "model.add(Dropout(0.5))\n",
        "model.add(Dense(num_classes, activation='softmax'))\n",
        "model.compile(loss=keras.losses.categorical_crossentropy,optimizer='adam',metrics=['accuracy'])"
      ]
    },
    {
      "cell_type": "code",
      "execution_count": null,
      "metadata": {
        "colab": {
          "base_uri": "https://localhost:8080/"
        },
        "id": "Plk09eAeKZTi",
        "outputId": "f36833f3-6645-4f71-f77c-bb464efc35db"
      },
      "outputs": [
        {
          "output_type": "stream",
          "name": "stdout",
          "text": [
            "469/469 [==============================] - 160s 338ms/step - loss: 0.1965 - accuracy: 0.9386 - val_loss: 0.0432 - val_accuracy: 0.9868\n",
            "The model has successfully trained\n"
          ]
        }
      ],
      "source": [
        "hist = model.fit(x_train, y_train,batch_size=batch_size,epochs=1,verbose=1,validation_data=(x_test, y_test))\n",
        "print(\"The model has successfully trained\")"
      ]
    },
    {
      "cell_type": "code",
      "execution_count": null,
      "metadata": {
        "id": "3FXfK0NhKtgS"
      },
      "outputs": [],
      "source": [
        "predict = model.predict(x_test)"
      ]
    },
    {
      "cell_type": "code",
      "execution_count": null,
      "metadata": {
        "colab": {
          "base_uri": "https://localhost:8080/"
        },
        "id": "atSaRTa2MOdN",
        "outputId": "1957ea19-69bf-4d80-bca8-999c1b3617f4"
      },
      "outputs": [
        {
          "output_type": "execute_result",
          "data": {
            "text/plain": [
              "array([[2.9599205e-09, 1.5845700e-09, 1.0142019e-06, ..., 9.9999821e-01,\n",
              "        2.2714897e-09, 3.8117682e-07],\n",
              "       [2.8444022e-06, 6.6241701e-06, 9.9998868e-01, ..., 3.9616355e-09,\n",
              "        1.4753742e-07, 6.0634719e-11],\n",
              "       [5.8896944e-06, 9.9694949e-01, 5.0587370e-04, ..., 1.9357542e-03,\n",
              "        2.3672411e-04, 3.9355386e-06],\n",
              "       ...,\n",
              "       [4.1105483e-09, 2.8266625e-08, 6.9364745e-09, ..., 2.6755670e-06,\n",
              "        4.0104314e-06, 1.9689909e-05],\n",
              "       [5.7366913e-07, 3.7490850e-08, 6.0289032e-09, ..., 2.6885050e-07,\n",
              "        1.1568339e-04, 3.9184644e-07],\n",
              "       [4.4196400e-07, 6.8856274e-08, 6.1818860e-06, ..., 1.1000567e-09,\n",
              "        1.6453490e-07, 2.1031362e-08]], dtype=float32)"
            ]
          },
          "metadata": {},
          "execution_count": 8
        }
      ],
      "source": [
        "predict"
      ]
    },
    {
      "cell_type": "code",
      "execution_count": null,
      "metadata": {
        "colab": {
          "base_uri": "https://localhost:8080/"
        },
        "id": "4ZrFjU90M-ey",
        "outputId": "63caddb2-f777-4024-a7fb-fffc00ce5997"
      },
      "outputs": [
        {
          "output_type": "execute_result",
          "data": {
            "text/plain": [
              "array([7, 2, 1, ..., 4, 5, 6])"
            ]
          },
          "metadata": {},
          "execution_count": 9
        }
      ],
      "source": [
        "import numpy as np\n",
        "pred = np.argmax(predict,axis=1)\n",
        "pred"
      ]
    },
    {
      "cell_type": "code",
      "execution_count": null,
      "metadata": {
        "id": "44OrOLX2NT1J"
      },
      "outputs": [],
      "source": [
        "from sklearn.metrics import accuracy_score\n",
        "acc = accuracy_score(x_test,pred)\n",
        "acc"
      ]
    },
    {
      "cell_type": "code",
      "execution_count": null,
      "metadata": {
        "id": "Skb9sTWYNY8A"
      },
      "outputs": [],
      "source": [
        "plt.figure(figsize=(25,25))\n",
        "for i in range(100):\n",
        "    plt.subplot(10,10,i+1)\n",
        "    plt.xticks([])\n",
        "    plt.yticks([])\n",
        "    plt.grid(False)\n",
        "    plt.imshow(tf.squeeze(x_test[i]), cmap=plt.cm.binary)\n",
        "    # The CIFAR labels happen to be arrays, \n",
        "    # which is why you need the extra index\n",
        "    plt.xlabel(pred[i])\n",
        "plt.show()"
      ]
    },
    {
      "cell_type": "code",
      "execution_count": null,
      "metadata": {
        "id": "YUtdAwDIN5r8"
      },
      "outputs": [],
      "source": [
        "from google.colab import files\n",
        "up = files.upload()"
      ]
    },
    {
      "cell_type": "code",
      "execution_count": null,
      "metadata": {
        "id": "jBln9MFISLKm"
      },
      "outputs": [],
      "source": [
        "import cv2\n",
        "import numpy as np\n",
        "from keras.preprocessing.image import load_img\n",
        "from keras.preprocessing.image import img_to_array\n",
        "\n",
        "# read image\n",
        "image = cv2.imread(\"img 5.png\")\n",
        "img = load_img(\"img 5.png\", grayscale=True, target_size=(28, 28))\n",
        "\n",
        "# image preprocessing\n",
        "img = img_to_array(img)\n",
        "img = img.reshape(1, 28, 28,1 )\n",
        "img = img.astype('float32')\n",
        "img = img / 255.0\n",
        "#print(image.shape)\n",
        "\n",
        "# predction\n",
        "res = model.predict(img)\n",
        "result = np.argmax(res,axis=1)\n",
        "\n",
        "# display image with prediction\n",
        "plt.imshow(image)\n",
        "plt.xlabel(\"Prediction : \"+ str(result[0]),fontsize=18)\n",
        "plt.xticks([])\n",
        "plt.yticks([])\n",
        "plt.show()"
      ]
    },
    {
      "cell_type": "code",
      "execution_count": null,
      "metadata": {
        "id": "KPlWHQUyS6Ww"
      },
      "outputs": [],
      "source": [
        ""
      ]
    }
  ],
  "metadata": {
    "colab": {
      "collapsed_sections": [],
      "name": "digit recognition sym.ipynb",
      "provenance": [],
      "authorship_tag": "ABX9TyMHJMiIQO9Up787+zKW+vkX",
      "include_colab_link": true
    },
    "kernelspec": {
      "display_name": "Python 3",
      "name": "python3"
    },
    "language_info": {
      "name": "python"
    }
  },
  "nbformat": 4,
  "nbformat_minor": 0
}