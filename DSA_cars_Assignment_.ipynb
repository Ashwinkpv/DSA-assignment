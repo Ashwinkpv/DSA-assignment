{
  "nbformat": 4,
  "nbformat_minor": 0,
  "metadata": {
    "colab": {
      "name": "DSA cars Assignment .ipynb",
      "provenance": [],
      "collapsed_sections": [],
      "authorship_tag": "ABX9TyNh9SCsds/STlpvTSMIiyAz",
      "include_colab_link": true
    },
    "kernelspec": {
      "name": "python3",
      "display_name": "Python 3"
    },
    "language_info": {
      "name": "python"
    }
  },
  "cells": [
    {
      "cell_type": "markdown",
      "metadata": {
        "id": "view-in-github",
        "colab_type": "text"
      },
      "source": [
        "<a href=\"https://colab.research.google.com/github/Ashwinkpv/DSA-assignment/blob/main/DSA_cars_Assignment_.ipynb\" target=\"_parent\"><img src=\"https://colab.research.google.com/assets/colab-badge.svg\" alt=\"Open In Colab\"/></a>"
      ]
    },
    {
      "cell_type": "code",
      "metadata": {
        "colab": {
          "resources": {
            "http://localhost:8080/nbextensions/google.colab/files.js": {
              "data": "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",
              "ok": true,
              "headers": [
                [
                  "content-type",
                  "application/javascript"
                ]
              ],
              "status": 200,
              "status_text": ""
            }
          },
          "base_uri": "https://localhost:8080/",
          "height": 75
        },
        "id": "ZqAFtyyZ1LOo",
        "outputId": "911ea410-9c88-4be7-a6f2-c47d74770afa"
      },
      "source": [
        "from google.colab import files\n",
        "up=files.upload()"
      ],
      "execution_count": null,
      "outputs": [
        {
          "output_type": "display_data",
          "data": {
            "text/html": [
              "\n",
              "     <input type=\"file\" id=\"files-5296a5a2-5ab0-46ba-852b-b524e18ace0b\" name=\"files[]\" multiple disabled\n",
              "        style=\"border:none\" />\n",
              "     <output id=\"result-5296a5a2-5ab0-46ba-852b-b524e18ace0b\">\n",
              "      Upload widget is only available when the cell has been executed in the\n",
              "      current browser session. Please rerun this cell to enable.\n",
              "      </output>\n",
              "      <script src=\"/nbextensions/google.colab/files.js\"></script> "
            ],
            "text/plain": [
              "<IPython.core.display.HTML object>"
            ]
          },
          "metadata": {}
        },
        {
          "output_type": "stream",
          "name": "stdout",
          "text": [
            "Saving cars_data.csv to cars_data.csv\n"
          ]
        }
      ]
    },
    {
      "cell_type": "markdown",
      "metadata": {
        "id": "TiGIezWBbBd7"
      },
      "source": [
        "##Read the dataset to the python environment\n"
      ]
    },
    {
      "cell_type": "code",
      "metadata": {
        "id": "xILTgGvM1ZXU"
      },
      "source": [
        "import pandas as pd\n",
        "df=pd.read_csv('cars_data.csv')"
      ],
      "execution_count": null,
      "outputs": []
    },
    {
      "cell_type": "code",
      "metadata": {
        "colab": {
          "base_uri": "https://localhost:8080/",
          "height": 528
        },
        "id": "P6i2yaZP2UB7",
        "outputId": "f8f549ee-c4df-4aec-fbac-ec34757cba87"
      },
      "source": [
        "df"
      ],
      "execution_count": null,
      "outputs": [
        {
          "output_type": "execute_result",
          "data": {
            "text/html": [
              "<div>\n",
              "<style scoped>\n",
              "    .dataframe tbody tr th:only-of-type {\n",
              "        vertical-align: middle;\n",
              "    }\n",
              "\n",
              "    .dataframe tbody tr th {\n",
              "        vertical-align: top;\n",
              "    }\n",
              "\n",
              "    .dataframe thead th {\n",
              "        text-align: right;\n",
              "    }\n",
              "</style>\n",
              "<table border=\"1\" class=\"dataframe\">\n",
              "  <thead>\n",
              "    <tr style=\"text-align: right;\">\n",
              "      <th></th>\n",
              "      <th>Make</th>\n",
              "      <th>Model</th>\n",
              "      <th>Nickname</th>\n",
              "      <th>Car Gender</th>\n",
              "      <th>Buyer Gender</th>\n",
              "      <th>Buyer Age</th>\n",
              "      <th>Buzzword</th>\n",
              "      <th>Country</th>\n",
              "      <th>City</th>\n",
              "      <th>Dealer Latitude</th>\n",
              "      <th>Dealer Longitude</th>\n",
              "      <th>Color</th>\n",
              "      <th>New Car</th>\n",
              "      <th>Purchase Date</th>\n",
              "      <th>Sale Price</th>\n",
              "      <th>Discount</th>\n",
              "      <th>Resell Price</th>\n",
              "      <th>5-yr Depreciation</th>\n",
              "      <th>Top Speed</th>\n",
              "      <th>0-60 Time</th>\n",
              "    </tr>\n",
              "  </thead>\n",
              "  <tbody>\n",
              "    <tr>\n",
              "      <th>0</th>\n",
              "      <td>Suzuki</td>\n",
              "      <td>Vitara</td>\n",
              "      <td>Philippine</td>\n",
              "      <td>Female</td>\n",
              "      <td>Female</td>\n",
              "      <td>51</td>\n",
              "      <td>User-friendly</td>\n",
              "      <td>Belgium</td>\n",
              "      <td>Antwerpen</td>\n",
              "      <td>51.247239</td>\n",
              "      <td>4.440346</td>\n",
              "      <td>Yellow</td>\n",
              "      <td>False</td>\n",
              "      <td>19/07/2009</td>\n",
              "      <td>54806.14</td>\n",
              "      <td>0.2467</td>\n",
              "      <td>33858.32</td>\n",
              "      <td>0.13</td>\n",
              "      <td>200.9</td>\n",
              "      <td>11.5</td>\n",
              "    </tr>\n",
              "    <tr>\n",
              "      <th>1</th>\n",
              "      <td>Honda</td>\n",
              "      <td>S2000</td>\n",
              "      <td>Henrik</td>\n",
              "      <td>Male</td>\n",
              "      <td>Male</td>\n",
              "      <td>30</td>\n",
              "      <td>analyzing</td>\n",
              "      <td>China</td>\n",
              "      <td>Jinhu</td>\n",
              "      <td>33.025433</td>\n",
              "      <td>119.020584</td>\n",
              "      <td>Crimson</td>\n",
              "      <td>False</td>\n",
              "      <td>26/10/2015</td>\n",
              "      <td>51826.30</td>\n",
              "      <td>0.3147</td>\n",
              "      <td>2989.28</td>\n",
              "      <td>0.02</td>\n",
              "      <td>158.5</td>\n",
              "      <td>8.8</td>\n",
              "    </tr>\n",
              "    <tr>\n",
              "      <th>2</th>\n",
              "      <td>BMW</td>\n",
              "      <td>Z4</td>\n",
              "      <td>Lebbie</td>\n",
              "      <td>Male</td>\n",
              "      <td>Female</td>\n",
              "      <td>54</td>\n",
              "      <td>software</td>\n",
              "      <td>China</td>\n",
              "      <td>Gemo</td>\n",
              "      <td>30.916207</td>\n",
              "      <td>121.677640</td>\n",
              "      <td>Khaki</td>\n",
              "      <td>False</td>\n",
              "      <td>28/03/2010</td>\n",
              "      <td>82929.14</td>\n",
              "      <td>0.5414</td>\n",
              "      <td>35049.16</td>\n",
              "      <td>0.24</td>\n",
              "      <td>149.5</td>\n",
              "      <td>14.4</td>\n",
              "    </tr>\n",
              "    <tr>\n",
              "      <th>3</th>\n",
              "      <td>Toyota</td>\n",
              "      <td>Tacoma</td>\n",
              "      <td>Jefferey</td>\n",
              "      <td>Female</td>\n",
              "      <td>Male</td>\n",
              "      <td>68</td>\n",
              "      <td>monitoring</td>\n",
              "      <td>Portugal</td>\n",
              "      <td>Queluz de Baixo</td>\n",
              "      <td>38.745168</td>\n",
              "      <td>-9.267087</td>\n",
              "      <td>Puce</td>\n",
              "      <td>False</td>\n",
              "      <td>07/05/2008</td>\n",
              "      <td>56928.66</td>\n",
              "      <td>0.0850</td>\n",
              "      <td>8236.15</td>\n",
              "      <td>0.20</td>\n",
              "      <td>153.3</td>\n",
              "      <td>11.5</td>\n",
              "    </tr>\n",
              "    <tr>\n",
              "      <th>4</th>\n",
              "      <td>Ford</td>\n",
              "      <td>Festiva</td>\n",
              "      <td>Glendon</td>\n",
              "      <td>Female</td>\n",
              "      <td>Male</td>\n",
              "      <td>70</td>\n",
              "      <td>Sharable</td>\n",
              "      <td>Latvia</td>\n",
              "      <td>Jaunpils</td>\n",
              "      <td>56.729980</td>\n",
              "      <td>23.016588</td>\n",
              "      <td>Yellow</td>\n",
              "      <td>False</td>\n",
              "      <td>01/06/2008</td>\n",
              "      <td>77201.26</td>\n",
              "      <td>0.1642</td>\n",
              "      <td>32765.76</td>\n",
              "      <td>0.18</td>\n",
              "      <td>122.0</td>\n",
              "      <td>14.9</td>\n",
              "    </tr>\n",
              "    <tr>\n",
              "      <th>...</th>\n",
              "      <td>...</td>\n",
              "      <td>...</td>\n",
              "      <td>...</td>\n",
              "      <td>...</td>\n",
              "      <td>...</td>\n",
              "      <td>...</td>\n",
              "      <td>...</td>\n",
              "      <td>...</td>\n",
              "      <td>...</td>\n",
              "      <td>...</td>\n",
              "      <td>...</td>\n",
              "      <td>...</td>\n",
              "      <td>...</td>\n",
              "      <td>...</td>\n",
              "      <td>...</td>\n",
              "      <td>...</td>\n",
              "      <td>...</td>\n",
              "      <td>...</td>\n",
              "      <td>...</td>\n",
              "      <td>...</td>\n",
              "    </tr>\n",
              "    <tr>\n",
              "      <th>9995</th>\n",
              "      <td>Mazda</td>\n",
              "      <td>Tribute</td>\n",
              "      <td>Cooper</td>\n",
              "      <td>Male</td>\n",
              "      <td>Male</td>\n",
              "      <td>44</td>\n",
              "      <td>hardware</td>\n",
              "      <td>Pakistan</td>\n",
              "      <td>Chishtiān Mandi</td>\n",
              "      <td>29.919386</td>\n",
              "      <td>73.074787</td>\n",
              "      <td>Pink</td>\n",
              "      <td>False</td>\n",
              "      <td>05/01/2020</td>\n",
              "      <td>58580.65</td>\n",
              "      <td>0.1611</td>\n",
              "      <td>42640.82</td>\n",
              "      <td>0.14</td>\n",
              "      <td>245.8</td>\n",
              "      <td>8.0</td>\n",
              "    </tr>\n",
              "    <tr>\n",
              "      <th>9996</th>\n",
              "      <td>GMC</td>\n",
              "      <td>Sierra 2500</td>\n",
              "      <td>Dud</td>\n",
              "      <td>Male</td>\n",
              "      <td>Male</td>\n",
              "      <td>40</td>\n",
              "      <td>Enhanced</td>\n",
              "      <td>Costa Rica</td>\n",
              "      <td>Ángeles</td>\n",
              "      <td>10.075000</td>\n",
              "      <td>-84.241523</td>\n",
              "      <td>Puce</td>\n",
              "      <td>False</td>\n",
              "      <td>28/12/2005</td>\n",
              "      <td>75229.74</td>\n",
              "      <td>0.2691</td>\n",
              "      <td>21115.58</td>\n",
              "      <td>0.11</td>\n",
              "      <td>147.4</td>\n",
              "      <td>12.3</td>\n",
              "    </tr>\n",
              "    <tr>\n",
              "      <th>9997</th>\n",
              "      <td>Mercury</td>\n",
              "      <td>Mariner</td>\n",
              "      <td>Chariot</td>\n",
              "      <td>Male</td>\n",
              "      <td>Male</td>\n",
              "      <td>37</td>\n",
              "      <td>monitoring</td>\n",
              "      <td>Poland</td>\n",
              "      <td>Dąbrowice</td>\n",
              "      <td>52.311922</td>\n",
              "      <td>19.084965</td>\n",
              "      <td>Blue</td>\n",
              "      <td>False</td>\n",
              "      <td>08/03/2013</td>\n",
              "      <td>34755.44</td>\n",
              "      <td>0.2493</td>\n",
              "      <td>2731.25</td>\n",
              "      <td>0.12</td>\n",
              "      <td>198.1</td>\n",
              "      <td>11.8</td>\n",
              "    </tr>\n",
              "    <tr>\n",
              "      <th>9998</th>\n",
              "      <td>Daewoo</td>\n",
              "      <td>Leganza</td>\n",
              "      <td>Dynah</td>\n",
              "      <td>Female</td>\n",
              "      <td>Female</td>\n",
              "      <td>21</td>\n",
              "      <td>cohesive</td>\n",
              "      <td>Philippines</td>\n",
              "      <td>Villasis</td>\n",
              "      <td>15.901640</td>\n",
              "      <td>120.587828</td>\n",
              "      <td>Teal</td>\n",
              "      <td>True</td>\n",
              "      <td>21/02/2008</td>\n",
              "      <td>98725.42</td>\n",
              "      <td>0.4654</td>\n",
              "      <td>18718.58</td>\n",
              "      <td>0.04</td>\n",
              "      <td>206.7</td>\n",
              "      <td>12.2</td>\n",
              "    </tr>\n",
              "    <tr>\n",
              "      <th>9999</th>\n",
              "      <td>Toyota</td>\n",
              "      <td>Sequoia</td>\n",
              "      <td>Zedekiah</td>\n",
              "      <td>Female</td>\n",
              "      <td>Male</td>\n",
              "      <td>21</td>\n",
              "      <td>analyzing</td>\n",
              "      <td>Philippines</td>\n",
              "      <td>Basud</td>\n",
              "      <td>14.048167</td>\n",
              "      <td>122.955697</td>\n",
              "      <td>Pink</td>\n",
              "      <td>False</td>\n",
              "      <td>16/12/2017</td>\n",
              "      <td>96769.78</td>\n",
              "      <td>0.5446</td>\n",
              "      <td>4545.95</td>\n",
              "      <td>0.07</td>\n",
              "      <td>242.1</td>\n",
              "      <td>3.2</td>\n",
              "    </tr>\n",
              "  </tbody>\n",
              "</table>\n",
              "<p>10000 rows × 20 columns</p>\n",
              "</div>"
            ],
            "text/plain": [
              "         Make        Model    Nickname  ... 5-yr Depreciation Top Speed  0-60 Time\n",
              "0      Suzuki       Vitara  Philippine  ...              0.13     200.9       11.5\n",
              "1       Honda        S2000      Henrik  ...              0.02     158.5        8.8\n",
              "2         BMW           Z4      Lebbie  ...              0.24     149.5       14.4\n",
              "3      Toyota       Tacoma    Jefferey  ...              0.20     153.3       11.5\n",
              "4        Ford      Festiva     Glendon  ...              0.18     122.0       14.9\n",
              "...       ...          ...         ...  ...               ...       ...        ...\n",
              "9995    Mazda      Tribute      Cooper  ...              0.14     245.8        8.0\n",
              "9996      GMC  Sierra 2500         Dud  ...              0.11     147.4       12.3\n",
              "9997  Mercury      Mariner     Chariot  ...              0.12     198.1       11.8\n",
              "9998   Daewoo      Leganza       Dynah  ...              0.04     206.7       12.2\n",
              "9999   Toyota      Sequoia    Zedekiah  ...              0.07     242.1        3.2\n",
              "\n",
              "[10000 rows x 20 columns]"
            ]
          },
          "metadata": {},
          "execution_count": 3
        }
      ]
    },
    {
      "cell_type": "markdown",
      "metadata": {
        "id": "sli0vUgLbOHy"
      },
      "source": [
        "##check for the null values present in the dataset"
      ]
    },
    {
      "cell_type": "code",
      "metadata": {
        "colab": {
          "base_uri": "https://localhost:8080/"
        },
        "id": "rMHqjPr22Y8c",
        "outputId": "752ff557-9d5e-4323-f354-79a72f889dc8"
      },
      "source": [
        "df.isnull().sum()"
      ],
      "execution_count": null,
      "outputs": [
        {
          "output_type": "execute_result",
          "data": {
            "text/plain": [
              "Make                 0\n",
              "Model                0\n",
              "Nickname             0\n",
              "Car Gender           0\n",
              "Buyer Gender         0\n",
              "Buyer Age            0\n",
              "Buzzword             0\n",
              "Country              0\n",
              "City                 0\n",
              "Dealer Latitude      0\n",
              "Dealer Longitude     0\n",
              "Color                0\n",
              "New Car              0\n",
              "Purchase Date        0\n",
              "Sale Price           0\n",
              "Discount             0\n",
              "Resell Price         0\n",
              "5-yr Depreciation    0\n",
              "Top Speed            0\n",
              "0-60 Time            0\n",
              "dtype: int64"
            ]
          },
          "metadata": {},
          "execution_count": 4
        }
      ]
    },
    {
      "cell_type": "code",
      "metadata": {
        "id": "4fgP0q5D2w7Y"
      },
      "source": [
        "df.info()"
      ],
      "execution_count": null,
      "outputs": []
    },
    {
      "cell_type": "markdown",
      "metadata": {
        "id": "XbfoaVMrbe2B"
      },
      "source": [
        "##Plot a bar grapgh of male vs female buyers participated in the sales"
      ]
    },
    {
      "cell_type": "code",
      "metadata": {
        "colab": {
          "base_uri": "https://localhost:8080/",
          "height": 339
        },
        "id": "jEr_HI4Q3hJt",
        "outputId": "854e5ae9-b6d2-4d6a-8436-8d674617c072"
      },
      "source": [
        "import matplotlib.pyplot as plt\n",
        "import numpy as np\n",
        "import seaborn as sns\n",
        "grouped=df.groupby('Buyer Gender')\n",
        "count=grouped['Buyer Gender'].count()\n",
        "count.plot.bar()\n",
        "plt.title(' bar grapgh of male vs female buyers participated in the sales')"
      ],
      "execution_count": 57,
      "outputs": [
        {
          "output_type": "execute_result",
          "data": {
            "text/plain": [
              "Text(0.5, 1.0, ' bar grapgh of male vs female buyers participated in the sales')"
            ]
          },
          "metadata": {},
          "execution_count": 57
        },
        {
          "output_type": "display_data",
          "data": {
            "image/png": "[encoded data removed]",
            "text/plain": [
              "<Figure size 432x288 with 1 Axes>"
            ]
          },
          "metadata": {
            "needs_background": "light"
          }
        }
      ]
    },
    {
      "cell_type": "markdown",
      "metadata": {
        "id": "Vdq-4hs1cFm3"
      },
      "source": [
        "##Find the top 5 cars based on their sales price"
      ]
    },
    {
      "cell_type": "code",
      "metadata": {
        "colab": {
          "base_uri": "https://localhost:8080/"
        },
        "id": "CERA-pcY5nKx",
        "outputId": "a0dcd085-d0c8-453d-9ed9-6bd625f1e9fd"
      },
      "source": [
        "top5 = df.sort_values('Sale Price',ascending = False).head(5)\n",
        "print (top5)"
      ],
      "execution_count": 40,
      "outputs": [
        {
          "output_type": "stream",
          "name": "stdout",
          "text": [
            "            Make      Model   Nickname  ... 5-yr Depreciation Top Speed  0-60 Time\n",
            "5984  Volkswagen  Jetta III    Rachael  ...              0.06     204.9       12.6\n",
            "1270        Audi         A6      Thorn  ...              0.16     171.3       13.0\n",
            "3460       Lexus         LX      Aldin  ...              0.12     193.7        4.5\n",
            "9032       Mazda       MX-6  Sylvester  ...              0.15     232.0        3.9\n",
            "302        Lexus         ES       Brig  ...              0.21     228.1        4.7\n",
            "\n",
            "[5 rows x 20 columns]\n"
          ]
        }
      ]
    },
    {
      "cell_type": "markdown",
      "metadata": {
        "id": "DWJLucDFcgVk"
      },
      "source": [
        "##Find the least 5 cars based on their resell price"
      ]
    },
    {
      "cell_type": "code",
      "metadata": {
        "colab": {
          "base_uri": "https://localhost:8080/"
        },
        "id": "H_YRSU_CAkTY",
        "outputId": "ece3e1a9-ac23-4e9a-c3b4-4612ea8ad609"
      },
      "source": [
        "top5 = df.sort_values('Resell Price',ascending = False).tail(5)\n",
        "print (top5)"
      ],
      "execution_count": 59,
      "outputs": [
        {
          "output_type": "stream",
          "name": "stdout",
          "text": [
            "            Make        Model Nickname  ... 5-yr Depreciation Top Speed  0-60 Time\n",
            "5869    Infiniti          G37    Sonny  ...              0.04     131.6       12.3\n",
            "2538  Mitsubishi       3000GT     Thia  ...              0.14     222.0       10.3\n",
            "566       Jaguar           XF   Payton  ...              0.19     249.3        6.9\n",
            "4933         GMC  Savana 1500     Lark  ...              0.01     158.7        9.0\n",
            "2446   Chevrolet         1500  Corenda  ...              0.25     239.6       11.2\n",
            "\n",
            "[5 rows x 20 columns]\n"
          ]
        }
      ]
    },
    {
      "cell_type": "code",
      "metadata": {
        "id": "0SZzvchGoI0i"
      },
      "source": [
        ""
      ],
      "execution_count": null,
      "outputs": []
    }
  ]
}